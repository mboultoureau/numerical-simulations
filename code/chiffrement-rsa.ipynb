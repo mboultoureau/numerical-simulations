{
 "cells": [
  {
   "attachments": {},
   "cell_type": "markdown",
   "metadata": {},
   "source": [
    "# Chiffrement RSA\n",
    "## Exponention rapide"
   ]
  },
  {
   "cell_type": "code",
   "execution_count": 2,
   "metadata": {},
   "outputs": [
    {
     "name": "stdout",
     "output_type": "stream",
     "text": [
      "Temps d'exécution de l'algorithme : 168.4862422000151 secondes\n",
      "Temps d'exécution de l'algorithme : 0.03904040000634268 secondes\n"
     ]
    }
   ],
   "source": [
    "import time\n",
    "\n",
    "# Algorithme naïf\n",
    "def basic_pow(n, p):\n",
    "    res = 1\n",
    "    for i in range(p):\n",
    "        res *= n\n",
    "    return res\n",
    "\n",
    "# Algorithme d'exponentiation rapide\n",
    "def fast_pow(n, p):\n",
    "    res = 1\n",
    "    while p > 0:\n",
    "        if p % 2 == 1:\n",
    "            res *= n\n",
    "        n *= n\n",
    "        p //= 2\n",
    "    return res\n",
    "\n",
    "# Fonction qui calcule les performances d'une fonction\n",
    "def performance(func, nb, n, p):\n",
    "    start_time = time.perf_counter()\n",
    "    for i in range(nb):\n",
    "        func(n, p)\n",
    "    end_time = time.perf_counter()\n",
    "    execution_time = end_time - start_time\n",
    "    print(\"Temps d'exécution de l'algorithme : %s secondes\" % execution_time)\n",
    "\n",
    "# Comparaison des performances\n",
    "performance(basic_pow, 10, 2, 1000000)\n",
    "performance(fast_pow, 10, 2, 1000000)"
   ]
  }
 ],
 "metadata": {
  "kernelspec": {
   "display_name": "Python 3",
   "language": "python",
   "name": "python3"
  },
  "language_info": {
   "codemirror_mode": {
    "name": "ipython",
    "version": 3
   },
   "file_extension": ".py",
   "mimetype": "text/x-python",
   "name": "python",
   "nbconvert_exporter": "python",
   "pygments_lexer": "ipython3",
   "version": "3.11.0"
  },
  "orig_nbformat": 4
 },
 "nbformat": 4,
 "nbformat_minor": 2
}
